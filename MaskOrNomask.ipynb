{
  "nbformat": 4,
  "nbformat_minor": 0,
  "metadata": {
    "colab": {
      "name": "MaskOrNomask.ipynb",
      "provenance": []
    },
    "kernelspec": {
      "name": "python3",
      "display_name": "Python 3"
    },
    "accelerator": "GPU"
  },
  "cells": [
    {
      "cell_type": "code",
      "metadata": {
        "id": "DRZENVvP9r3J",
        "colab_type": "code",
        "colab": {}
      },
      "source": [
        "!wget --no-check-certificate \\\n",
        "    https://storage.googleapis.com/mledu-datasets/inception_v3_weights_tf_dim_ordering_tf_kernels_notop.h5 \\\n",
        "    -O /tmp/inception_v3_weights_tf_dim_ordering_tf_kernels_notop.h5"
      ],
      "execution_count": null,
      "outputs": []
    },
    {
      "cell_type": "code",
      "metadata": {
        "id": "I17nJNWO-6CO",
        "colab_type": "code",
        "colab": {}
      },
      "source": [
        "import os\n",
        "import tensorflow as tf\n",
        "from tensorflow.keras import layers\n",
        "from tensorflow.keras import Model\n"
      ],
      "execution_count": 6,
      "outputs": []
    },
    {
      "cell_type": "code",
      "metadata": {
        "id": "r77bDda5_xp-",
        "colab_type": "code",
        "colab": {}
      },
      "source": [
        "from tensorflow.keras.applications.inception_v3 import InceptionV3\n",
        "\n",
        "local_weights_file = '/tmp/inception_v3_weights_tf_dim_ordering_tf_kernels_notop.h5'"
      ],
      "execution_count": null,
      "outputs": []
    },
    {
      "cell_type": "code",
      "metadata": {
        "id": "G3002MMM_z-A",
        "colab_type": "code",
        "colab": {}
      },
      "source": [
        "pre_trained_model = InceptionV3(input_shape = (150, 150, 3), \n",
        "                                include_top = False, \n",
        "                                weights = None)\n",
        "\n",
        "pre_trained_model.load_weights(local_weights_file)\n",
        "\n",
        "for layer in pre_trained_model.layers:\n",
        "  layer.trainable = False\n",
        "  \n",
        "pre_trained_model.summary()\n",
        "\n"
      ],
      "execution_count": null,
      "outputs": []
    },
    {
      "cell_type": "code",
      "metadata": {
        "id": "L4gk_Qxj_1hr",
        "colab_type": "code",
        "colab": {
          "base_uri": "https://localhost:8080/",
          "height": 34
        },
        "outputId": "e010b56e-2a46-46c5-f4b2-18cbbc764920"
      },
      "source": [
        "last_layer = pre_trained_model.get_layer('mixed7')\n",
        "print('last layer output shape: ', last_layer.output_shape)\n",
        "last_output = last_layer.output"
      ],
      "execution_count": 9,
      "outputs": [
        {
          "output_type": "stream",
          "text": [
            "last layer output shape:  (None, 7, 7, 768)\n"
          ],
          "name": "stdout"
        }
      ]
    },
    {
      "cell_type": "code",
      "metadata": {
        "id": "XrqiOtZoCLhJ",
        "colab_type": "code",
        "colab": {}
      },
      "source": [
        "model = tf.keras.models.Sequential([\n",
        "    tf.keras.layers.Conv2D(16, (3,3), activation='relu', input_shape=(150, 150, 3)),\n",
        "    tf.keras.layers.MaxPooling2D(2, 2),\n",
        "    tf.keras.layers.Conv2D(32, (3,3), activation='relu'),\n",
        "    tf.keras.layers.MaxPooling2D(2,2),\n",
        "    tf.keras.layers.Conv2D(64, (3,3), activation='relu'),\n",
        "    tf.keras.layers.MaxPooling2D(2,2),\n",
        "    tf.keras.layers.Conv2D(64, (3,3), activation='relu'),\n",
        "    tf.keras.layers.MaxPooling2D(2,2),\n",
        "    tf.keras.layers.Conv2D(64, (3,3), activation='relu'),\n",
        "    tf.keras.layers.MaxPooling2D(2,2),\n",
        "    tf.keras.layers.Flatten(),\n",
        "    tf.keras.layers.Dense(1024, activation='relu'),\n",
        "    tf.keras.layers.Dense(1, activation='sigmoid')\n",
        "])"
      ],
      "execution_count": 7,
      "outputs": []
    },
    {
      "cell_type": "code",
      "metadata": {
        "id": "5H0avVcd-VPh",
        "colab_type": "code",
        "colab": {}
      },
      "source": [
        "model.compile(optimizer = RMSprop(lr=0.0001), \n",
        "              loss = 'binary_crossentropy', \n",
        "              metrics = ['accuracy'])"
      ],
      "execution_count": 9,
      "outputs": []
    },
    {
      "cell_type": "code",
      "metadata": {
        "id": "j52pVgyo_8p-",
        "colab_type": "code",
        "colab": {}
      },
      "source": [
        "from tensorflow.keras.optimizers import RMSprop\n",
        "\n",
        "# Flatten the output layer to 1 dimension\n",
        "#x = layers.Flatten()(last_output)\n",
        "x = layers.Flatten()\n",
        "\n",
        "# Add a fully connected layer with 1,024 hidden units and ReLU activation\n",
        "x = layers.Dense(1024, activation='relu')(x)\n",
        "# Add a dropout rate of 0.2\n",
        "x = layers.Dropout(0.2)(x)                  \n",
        "# Add a final sigmoid layer for classification\n",
        "x = layers.Dense(1, activation='sigmoid')(x)           \n",
        "\n",
        "model = x \n",
        "\n",
        "model.compile(optimizer = RMSprop(lr=0.0001), \n",
        "              loss = 'binary_crossentropy', \n",
        "              metrics = ['accuracy'])\n",
        "pass"
      ],
      "execution_count": null,
      "outputs": []
    },
    {
      "cell_type": "code",
      "metadata": {
        "id": "l2lmQYP1yuLx",
        "colab_type": "code",
        "colab": {}
      },
      "source": [
        "import zipfile\n",
        "\n",
        "local_zip = '/content/drive/My Drive/675484_1187790_bundle_archive.zip'\n",
        "\n",
        "zip_ref = zipfile.ZipFile(local_zip, 'r')\n",
        "\n",
        "zip_ref.extractall('/tmp')\n",
        "zip_ref.close()"
      ],
      "execution_count": 13,
      "outputs": []
    },
    {
      "cell_type": "code",
      "metadata": {
        "id": "Y79-1XG8_-Rr",
        "colab_type": "code",
        "colab": {}
      },
      "source": [
        "from tensorflow.keras.preprocessing.image import ImageDataGenerator\n",
        "\n",
        "import os\n",
        "\n",
        "base_dir = '/tmp/Face Mask Dataset'\n",
        "\n",
        "train_dir = os.path.join( base_dir, 'Train')\n",
        "validation_dir = os.path.join( base_dir, 'Validation')\n",
        "\n",
        "train_cats_dir = os.path.join(train_dir, 'WithMask')\n",
        "train_dogs_dir = os.path.join(train_dir, 'WithoutMask')\n",
        "validation_cats_dir = os.path.join(validation_dir, 'WithMask')\n",
        "validation_dogs_dir = os.path.join(validation_dir, 'WithoutMask')"
      ],
      "execution_count": 14,
      "outputs": []
    },
    {
      "cell_type": "code",
      "metadata": {
        "id": "Xd5BmG8wDKmX",
        "colab_type": "code",
        "colab": {
          "base_uri": "https://localhost:8080/",
          "height": 51
        },
        "outputId": "61539a02-5bc1-4e28-e4ca-a08639d17e2a"
      },
      "source": [
        "train_datagen = ImageDataGenerator(\n",
        "    rescale = 1./255.,\n",
        "    rotation_range = 40,\n",
        "    width_shift_range = 0.2,\n",
        "    height_shift_range = 0.2,\n",
        "    shear_range = 0.2,\n",
        "    zoom_range = 0.2,\n",
        "    horizontal_flip = True\n",
        "    )\n",
        "\n",
        "\n",
        "train_generator = train_datagen.flow_from_directory(\n",
        "    train_dir,\n",
        "    batch_size=20,\n",
        "    class_mode='binary',\n",
        "    target_size=(150,150),\n",
        ")     \n",
        "\n",
        "test_datagen = ImageDataGenerator( rescale = 1.0/255. )\n",
        "\n",
        "validation_generator =  test_datagen.flow_from_directory( validation_dir,\n",
        "                                                          batch_size  = 20,\n",
        "                                                          class_mode  = 'binary', \n",
        "                                                          target_size = (150, 150))"
      ],
      "execution_count": 15,
      "outputs": [
        {
          "output_type": "stream",
          "text": [
            "Found 10000 images belonging to 2 classes.\n",
            "Found 800 images belonging to 2 classes.\n"
          ],
          "name": "stdout"
        }
      ]
    },
    {
      "cell_type": "code",
      "metadata": {
        "id": "1ge9Z7uGEi3w",
        "colab_type": "code",
        "colab": {
          "base_uri": "https://localhost:8080/",
          "height": 1000
        },
        "outputId": "be44bf06-84a2-45fc-9a0c-a7987fbd3f45"
      },
      "source": [
        "model.fit_generator(\n",
        "    train_generator,\n",
        "    steps_per_epoch = 500,\n",
        "    validation_data = validation_generator, \n",
        "    validation_steps = 40,\n",
        "    epochs = 30)"
      ],
      "execution_count": 23,
      "outputs": [
        {
          "output_type": "stream",
          "text": [
            "Epoch 1/30\n",
            "500/500 [==============================] - 64s 128ms/step - loss: 0.1946 - accuracy: 0.9248 - val_loss: 0.1087 - val_accuracy: 0.9688\n",
            "Epoch 2/30\n",
            "500/500 [==============================] - 63s 126ms/step - loss: 0.1801 - accuracy: 0.9318 - val_loss: 0.0902 - val_accuracy: 0.9750\n",
            "Epoch 3/30\n",
            "500/500 [==============================] - 63s 126ms/step - loss: 0.1604 - accuracy: 0.9408 - val_loss: 0.0901 - val_accuracy: 0.9787\n",
            "Epoch 4/30\n",
            "500/500 [==============================] - 63s 126ms/step - loss: 0.1569 - accuracy: 0.9428 - val_loss: 0.0794 - val_accuracy: 0.9775\n",
            "Epoch 5/30\n",
            "500/500 [==============================] - 63s 126ms/step - loss: 0.1462 - accuracy: 0.9467 - val_loss: 0.0727 - val_accuracy: 0.9762\n",
            "Epoch 6/30\n",
            "500/500 [==============================] - 63s 127ms/step - loss: 0.1440 - accuracy: 0.9477 - val_loss: 0.0747 - val_accuracy: 0.9787\n",
            "Epoch 7/30\n",
            "500/500 [==============================] - 63s 127ms/step - loss: 0.1416 - accuracy: 0.9474 - val_loss: 0.0662 - val_accuracy: 0.9787\n",
            "Epoch 8/30\n",
            "500/500 [==============================] - 64s 128ms/step - loss: 0.1371 - accuracy: 0.9485 - val_loss: 0.0624 - val_accuracy: 0.9812\n",
            "Epoch 9/30\n",
            "500/500 [==============================] - 64s 127ms/step - loss: 0.1301 - accuracy: 0.9533 - val_loss: 0.0571 - val_accuracy: 0.9850\n",
            "Epoch 10/30\n",
            "500/500 [==============================] - 63s 126ms/step - loss: 0.1329 - accuracy: 0.9515 - val_loss: 0.0852 - val_accuracy: 0.9775\n",
            "Epoch 11/30\n",
            "500/500 [==============================] - 63s 125ms/step - loss: 0.1220 - accuracy: 0.9545 - val_loss: 0.0712 - val_accuracy: 0.9812\n",
            "Epoch 12/30\n",
            "500/500 [==============================] - 63s 126ms/step - loss: 0.1159 - accuracy: 0.9589 - val_loss: 0.0544 - val_accuracy: 0.9862\n",
            "Epoch 13/30\n",
            "500/500 [==============================] - 63s 126ms/step - loss: 0.1201 - accuracy: 0.9574 - val_loss: 0.0508 - val_accuracy: 0.9825\n",
            "Epoch 14/30\n",
            "500/500 [==============================] - 63s 127ms/step - loss: 0.1143 - accuracy: 0.9586 - val_loss: 0.0668 - val_accuracy: 0.9837\n",
            "Epoch 15/30\n",
            "500/500 [==============================] - 64s 127ms/step - loss: 0.1054 - accuracy: 0.9607 - val_loss: 0.0459 - val_accuracy: 0.9862\n",
            "Epoch 16/30\n",
            "500/500 [==============================] - 64s 127ms/step - loss: 0.1052 - accuracy: 0.9613 - val_loss: 0.0474 - val_accuracy: 0.9850\n",
            "Epoch 17/30\n",
            "500/500 [==============================] - 64s 127ms/step - loss: 0.1079 - accuracy: 0.9606 - val_loss: 0.0628 - val_accuracy: 0.9812\n",
            "Epoch 18/30\n",
            "500/500 [==============================] - 64s 127ms/step - loss: 0.0993 - accuracy: 0.9628 - val_loss: 0.0369 - val_accuracy: 0.9875\n",
            "Epoch 19/30\n",
            "500/500 [==============================] - 64s 127ms/step - loss: 0.0951 - accuracy: 0.9658 - val_loss: 0.0345 - val_accuracy: 0.9900\n",
            "Epoch 20/30\n",
            "500/500 [==============================] - 64s 128ms/step - loss: 0.0894 - accuracy: 0.9666 - val_loss: 0.0460 - val_accuracy: 0.9875\n",
            "Epoch 21/30\n",
            "500/500 [==============================] - 64s 128ms/step - loss: 0.0958 - accuracy: 0.9668 - val_loss: 0.0481 - val_accuracy: 0.9875\n",
            "Epoch 22/30\n",
            "500/500 [==============================] - 64s 128ms/step - loss: 0.0897 - accuracy: 0.9670 - val_loss: 0.0406 - val_accuracy: 0.9862\n",
            "Epoch 23/30\n",
            "500/500 [==============================] - 64s 128ms/step - loss: 0.0874 - accuracy: 0.9689 - val_loss: 0.0363 - val_accuracy: 0.9912\n",
            "Epoch 24/30\n",
            "500/500 [==============================] - 64s 127ms/step - loss: 0.0860 - accuracy: 0.9692 - val_loss: 0.0271 - val_accuracy: 0.9950\n",
            "Epoch 25/30\n",
            "500/500 [==============================] - 64s 127ms/step - loss: 0.0837 - accuracy: 0.9718 - val_loss: 0.0326 - val_accuracy: 0.9900\n",
            "Epoch 26/30\n",
            "500/500 [==============================] - 64s 127ms/step - loss: 0.0806 - accuracy: 0.9717 - val_loss: 0.0392 - val_accuracy: 0.9875\n",
            "Epoch 27/30\n",
            "500/500 [==============================] - 63s 126ms/step - loss: 0.0800 - accuracy: 0.9721 - val_loss: 0.0295 - val_accuracy: 0.9912\n",
            "Epoch 28/30\n",
            "500/500 [==============================] - 63s 127ms/step - loss: 0.0813 - accuracy: 0.9718 - val_loss: 0.0360 - val_accuracy: 0.9862\n",
            "Epoch 29/30\n",
            "500/500 [==============================] - 64s 128ms/step - loss: 0.0763 - accuracy: 0.9739 - val_loss: 0.0395 - val_accuracy: 0.9862\n",
            "Epoch 30/30\n",
            "500/500 [==============================] - 64s 128ms/step - loss: 0.0766 - accuracy: 0.9722 - val_loss: 0.0327 - val_accuracy: 0.9887\n"
          ],
          "name": "stdout"
        },
        {
          "output_type": "execute_result",
          "data": {
            "text/plain": [
              "<tensorflow.python.keras.callbacks.History at 0x7f39240e86d8>"
            ]
          },
          "metadata": {
            "tags": []
          },
          "execution_count": 23
        }
      ]
    },
    {
      "cell_type": "code",
      "metadata": {
        "id": "et5MO7vIFYnF",
        "colab_type": "code",
        "colab": {}
      },
      "source": [
        "import numpy as np\n",
        "from keras.preprocessing import image\n",
        "\n",
        "img_width, img_height = 150, 150\n",
        "img = image.load_img('/tmp/Face Mask Dataset/Test/WithMask/1163.png', target_size = (img_width, img_height))\n",
        "img = image.img_to_array(img)\n",
        "img = np.expand_dims(img, axis = 0)"
      ],
      "execution_count": 24,
      "outputs": []
    },
    {
      "cell_type": "code",
      "metadata": {
        "id": "L9MzQfbKIMII",
        "colab_type": "code",
        "colab": {
          "base_uri": "https://localhost:8080/",
          "height": 34
        },
        "outputId": "426ec732-43d7-4079-8968-94b0a69a2f97"
      },
      "source": [
        "model.predict(img)"
      ],
      "execution_count": 25,
      "outputs": [
        {
          "output_type": "execute_result",
          "data": {
            "text/plain": [
              "array([[0.]], dtype=float32)"
            ]
          },
          "metadata": {
            "tags": []
          },
          "execution_count": 25
        }
      ]
    },
    {
      "cell_type": "code",
      "metadata": {
        "id": "b1KicnovIa-u",
        "colab_type": "code",
        "colab": {}
      },
      "source": [
        "img_width, img_height = 150, 150\n",
        "img1 = image.load_img('/tmp/Face Mask Dataset/Test/WithoutMask/1177.png', target_size = (img_width, img_height))\n",
        "img1 = image.img_to_array(img1)\n",
        "img1 = np.expand_dims(img1, axis = 0)"
      ],
      "execution_count": 26,
      "outputs": []
    },
    {
      "cell_type": "code",
      "metadata": {
        "id": "0UJk_OwgIiao",
        "colab_type": "code",
        "colab": {
          "base_uri": "https://localhost:8080/",
          "height": 34
        },
        "outputId": "b0ffd837-49d3-4179-ac07-02f7ba9e53b0"
      },
      "source": [
        "model.predict(img1)"
      ],
      "execution_count": 27,
      "outputs": [
        {
          "output_type": "execute_result",
          "data": {
            "text/plain": [
              "array([[1.]], dtype=float32)"
            ]
          },
          "metadata": {
            "tags": []
          },
          "execution_count": 27
        }
      ]
    },
    {
      "cell_type": "code",
      "metadata": {
        "id": "M0VXO3m3IkO_",
        "colab_type": "code",
        "colab": {}
      },
      "source": [
        "!pip install -U -q PyDrive\n",
        "from pydrive.auth import GoogleAuth\n",
        "from pydrive.drive import GoogleDrive \n",
        "from google.colab import auth \n",
        "from oauth2client.client import GoogleCredentials"
      ],
      "execution_count": 28,
      "outputs": []
    },
    {
      "cell_type": "code",
      "metadata": {
        "id": "kq8RK_F3JfUS",
        "colab_type": "code",
        "colab": {
          "base_uri": "https://localhost:8080/",
          "height": 130
        },
        "outputId": "48afff08-2c63-4a8a-d553-2b305c00a4d3"
      },
      "source": [
        "auth.authenticate_user()\n",
        "gauth = GoogleAuth()\n",
        "gauth.credentials = GoogleCredentials.get_application_default()                       drive = GoogleDrive(gauth)\n"
      ],
      "execution_count": 29,
      "outputs": [
        {
          "output_type": "error",
          "ename": "SyntaxError",
          "evalue": "ignored",
          "traceback": [
            "\u001b[0;36m  File \u001b[0;32m\"<ipython-input-29-eb878f30e756>\"\u001b[0;36m, line \u001b[0;32m3\u001b[0m\n\u001b[0;31m    gauth.credentials = GoogleCredentials.get_application_default()                       drive = GoogleDrive(gauth)\u001b[0m\n\u001b[0m                                                                                              ^\u001b[0m\n\u001b[0;31mSyntaxError\u001b[0m\u001b[0;31m:\u001b[0m invalid syntax\n"
          ]
        }
      ]
    },
    {
      "cell_type": "code",
      "metadata": {
        "id": "kzdJz5iEJiAX",
        "colab_type": "code",
        "colab": {}
      },
      "source": [
        "model.save('/tmp/model.h5')"
      ],
      "execution_count": 31,
      "outputs": []
    },
    {
      "cell_type": "code",
      "metadata": {
        "id": "hxYXeomYJttW",
        "colab_type": "code",
        "colab": {}
      },
      "source": [
        ""
      ],
      "execution_count": null,
      "outputs": []
    }
  ]
}